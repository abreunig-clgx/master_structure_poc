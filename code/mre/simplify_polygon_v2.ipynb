{
 "cells": [
  {
   "cell_type": "code",
   "execution_count": 1,
   "metadata": {},
   "outputs": [
    {
     "name": "stderr",
     "output_type": "stream",
     "text": [
      "C:\\Users\\abreunig\\AppData\\Local\\Temp\\2\\ipykernel_11608\\1502177323.py:2: UserWarning: Shapely 2.0 is installed, but because PyGEOS is also installed, GeoPandas will still use PyGEOS by default for now. To force to use and test Shapely 2.0, you have to set the environment variable USE_PYGEOS=0. You can do this before starting the Python process, or in your code before importing geopandas:\n",
      "\n",
      "import os\n",
      "os.environ['USE_PYGEOS'] = '0'\n",
      "import geopandas\n",
      "\n",
      "In a future release, GeoPandas will switch to using Shapely by default. If you are using PyGEOS directly (calling PyGEOS functions on geometries from GeoPandas), this will then stop working and you are encouraged to migrate from PyGEOS to Shapely 2.0 (https://shapely.readthedocs.io/en/latest/migration_pygeos.html).\n",
      "  import geopandas as gpd\n"
     ]
    }
   ],
   "source": [
    "import pandas as pd\n",
    "import geopandas as gpd\n",
    "#import db_dtypes\n",
    "import matplotlib.pyplot as plt \n",
    "import folium\n",
    "from shapely.geometry import Point, Polygon, LineString\n",
    "from shapely import intersection\n",
    "%matplotlib inline\n"
   ]
  },
  {
   "cell_type": "code",
   "execution_count": null,
   "metadata": {},
   "outputs": [],
   "source": []
  },
  {
   "cell_type": "code",
   "execution_count": 2,
   "metadata": {},
   "outputs": [],
   "source": [
    "\n",
    "shapes = gpd.read_file(\"vexcel_selection.shp\")"
   ]
  },
  {
   "cell_type": "code",
   "execution_count": 3,
   "metadata": {},
   "outputs": [
    {
     "name": "stdout",
     "output_type": "stream",
     "text": [
      "-122.62550925157649 38.236679420085196\n"
     ]
    }
   ],
   "source": [
    "# Get centroid locations\n",
    "bounds = shapes.total_bounds\n",
    "centroid_x = (bounds[0] + bounds[2]) / 2\n",
    "centroid_y = (bounds[1] + bounds[3]) / 2\n",
    "print(centroid_x, centroid_y)"
   ]
  },
  {
   "cell_type": "code",
   "execution_count": 4,
   "metadata": {},
   "outputs": [
    {
     "data": {
      "text/html": [
       "<div style=\"width:100%;\"><div style=\"position:relative;width:100%;height:0;padding-bottom:60%;\"><span style=\"color:#565656\">Make this Notebook Trusted to load map: File -> Trust Notebook</span><iframe srcdoc=\"&lt;!DOCTYPE html&gt;\n",
       "&lt;html&gt;\n",
       "&lt;head&gt;\n",
       "    \n",
       "    &lt;meta http-equiv=&quot;content-type&quot; content=&quot;text/html; charset=UTF-8&quot; /&gt;\n",
       "    \n",
       "        &lt;script&gt;\n",
       "            L_NO_TOUCH = false;\n",
       "            L_DISABLE_3D = false;\n",
       "        &lt;/script&gt;\n",
       "    \n",
       "    &lt;style&gt;html, body {width: 100%;height: 100%;margin: 0;padding: 0;}&lt;/style&gt;\n",
       "    &lt;style&gt;#map {position:absolute;top:0;bottom:0;right:0;left:0;}&lt;/style&gt;\n",
       "    &lt;script src=&quot;https://cdn.jsdelivr.net/npm/leaflet@1.9.3/dist/leaflet.js&quot;&gt;&lt;/script&gt;\n",
       "    &lt;script src=&quot;https://code.jquery.com/jquery-1.12.4.min.js&quot;&gt;&lt;/script&gt;\n",
       "    &lt;script src=&quot;https://cdn.jsdelivr.net/npm/bootstrap@5.2.2/dist/js/bootstrap.bundle.min.js&quot;&gt;&lt;/script&gt;\n",
       "    &lt;script src=&quot;https://cdnjs.cloudflare.com/ajax/libs/Leaflet.awesome-markers/2.0.2/leaflet.awesome-markers.js&quot;&gt;&lt;/script&gt;\n",
       "    &lt;link rel=&quot;stylesheet&quot; href=&quot;https://cdn.jsdelivr.net/npm/leaflet@1.9.3/dist/leaflet.css&quot;/&gt;\n",
       "    &lt;link rel=&quot;stylesheet&quot; href=&quot;https://cdn.jsdelivr.net/npm/bootstrap@5.2.2/dist/css/bootstrap.min.css&quot;/&gt;\n",
       "    &lt;link rel=&quot;stylesheet&quot; href=&quot;https://netdna.bootstrapcdn.com/bootstrap/3.0.0/css/bootstrap.min.css&quot;/&gt;\n",
       "    &lt;link rel=&quot;stylesheet&quot; href=&quot;https://cdn.jsdelivr.net/npm/@fortawesome/fontawesome-free@6.2.0/css/all.min.css&quot;/&gt;\n",
       "    &lt;link rel=&quot;stylesheet&quot; href=&quot;https://cdnjs.cloudflare.com/ajax/libs/Leaflet.awesome-markers/2.0.2/leaflet.awesome-markers.css&quot;/&gt;\n",
       "    &lt;link rel=&quot;stylesheet&quot; href=&quot;https://cdn.jsdelivr.net/gh/python-visualization/folium/folium/templates/leaflet.awesome.rotate.min.css&quot;/&gt;\n",
       "    \n",
       "            &lt;meta name=&quot;viewport&quot; content=&quot;width=device-width,\n",
       "                initial-scale=1.0, maximum-scale=1.0, user-scalable=no&quot; /&gt;\n",
       "            &lt;style&gt;\n",
       "                #map_a7af73dfab0fb61e1deb83e37094b69a {\n",
       "                    position: relative;\n",
       "                    width: 100.0%;\n",
       "                    height: 100.0%;\n",
       "                    left: 0.0%;\n",
       "                    top: 0.0%;\n",
       "                }\n",
       "                .leaflet-container { font-size: 1rem; }\n",
       "            &lt;/style&gt;\n",
       "        \n",
       "&lt;/head&gt;\n",
       "&lt;body&gt;\n",
       "    \n",
       "    \n",
       "            &lt;div class=&quot;folium-map&quot; id=&quot;map_a7af73dfab0fb61e1deb83e37094b69a&quot; &gt;&lt;/div&gt;\n",
       "        \n",
       "&lt;/body&gt;\n",
       "&lt;script&gt;\n",
       "    \n",
       "    \n",
       "            var map_a7af73dfab0fb61e1deb83e37094b69a = L.map(\n",
       "                &quot;map_a7af73dfab0fb61e1deb83e37094b69a&quot;,\n",
       "                {\n",
       "                    center: [38.236679420085196, -122.62550925157649],\n",
       "                    crs: L.CRS.EPSG3857,\n",
       "                    zoom: 25,\n",
       "                    zoomControl: true,\n",
       "                    preferCanvas: false,\n",
       "                }\n",
       "            );\n",
       "\n",
       "            \n",
       "\n",
       "        \n",
       "    \n",
       "            var tile_layer_3594b490f7c892e4cfb8484d9d21d176 = L.tileLayer(\n",
       "                &quot;https://{s}.tile.openstreetmap.org/{z}/{x}/{y}.png&quot;,\n",
       "                {&quot;attribution&quot;: &quot;Data by \\u0026copy; \\u003ca target=\\&quot;_blank\\&quot; href=\\&quot;http://openstreetmap.org\\&quot;\\u003eOpenStreetMap\\u003c/a\\u003e, under \\u003ca target=\\&quot;_blank\\&quot; href=\\&quot;http://www.openstreetmap.org/copyright\\&quot;\\u003eODbL\\u003c/a\\u003e.&quot;, &quot;detectRetina&quot;: false, &quot;maxNativeZoom&quot;: 18, &quot;maxZoom&quot;: 18, &quot;minZoom&quot;: 0, &quot;noWrap&quot;: false, &quot;opacity&quot;: 1, &quot;subdomains&quot;: &quot;abc&quot;, &quot;tms&quot;: false}\n",
       "            ).addTo(map_a7af73dfab0fb61e1deb83e37094b69a);\n",
       "        \n",
       "    \n",
       "\n",
       "        function geo_json_69d3c42aea2bdf01a5fed5fa8abe5aae_onEachFeature(feature, layer) {\n",
       "            layer.on({\n",
       "            });\n",
       "        };\n",
       "        var geo_json_69d3c42aea2bdf01a5fed5fa8abe5aae = L.geoJson(null, {\n",
       "                onEachFeature: geo_json_69d3c42aea2bdf01a5fed5fa8abe5aae_onEachFeature,\n",
       "            \n",
       "        });\n",
       "\n",
       "        function geo_json_69d3c42aea2bdf01a5fed5fa8abe5aae_add (data) {\n",
       "            geo_json_69d3c42aea2bdf01a5fed5fa8abe5aae\n",
       "                .addData(data)\n",
       "                .addTo(map_a7af73dfab0fb61e1deb83e37094b69a);\n",
       "        }\n",
       "            geo_json_69d3c42aea2bdf01a5fed5fa8abe5aae_add({&quot;bbox&quot;: [-122.625641450286, 38.2365770736445, -122.625377052867, 38.2367817665259], &quot;features&quot;: [{&quot;bbox&quot;: [-122.625641450286, 38.236628047618, -122.625473812204, 38.2367817665259], &quot;geometry&quot;: {&quot;coordinates&quot;: [[[-122.625554446138, 38.2367556952704], [-122.625526785851, 38.2367817665259], [-122.62548789382, 38.2367591187751], [-122.625473812204, 38.2367345932141], [-122.625473812234, 38.2367188826782], [-122.625497281551, 38.2366948623276], [-122.625503651807, 38.2366948623275], [-122.625503651787, 38.2367079891285], [-122.625515051179, 38.236701101611], [-122.625515051196, 38.2366879165882], [-122.625510692596, 38.2366806416307], [-122.625501975417, 38.236678008168], [-122.625501975417, 38.236658520535], [-122.625515449715, 38.2366585205468], [-122.625550585916, 38.236628047618], [-122.625575648957, 38.2366460250507], [-122.625597864389, 38.2366321859019], [-122.625641450286, 38.2366585205411], [-122.625611945987, 38.2366922288654], [-122.625611945987, 38.2367556952846], [-122.625554446138, 38.2367556952704]]], &quot;type&quot;: &quot;Polygon&quot;}, &quot;id&quot;: &quot;0&quot;, &quot;properties&quot;: {&quot;id&quot;: 1}, &quot;type&quot;: &quot;Feature&quot;}, {&quot;bbox&quot;: [-122.625548050398, 38.2365770736445, -122.625377052867, 38.2367439770229], &quot;geometry&quot;: {&quot;coordinates&quot;: [[[-122.625475445149, 38.2367168398683], [-122.6254511289, 38.2367439770229], [-122.625377052867, 38.2367026852988], [-122.62548960713, 38.2365770736445], [-122.625533602781, 38.236601597846], [-122.625519985866, 38.2366167944952], [-122.625548050398, 38.2366324383039], [-122.625523433089, 38.2366599115221], [-122.625523433089, 38.2367190901751], [-122.625475445149, 38.2367168398683]]], &quot;type&quot;: &quot;Polygon&quot;}, &quot;id&quot;: &quot;1&quot;, &quot;properties&quot;: {&quot;id&quot;: 2}, &quot;type&quot;: &quot;Feature&quot;}], &quot;type&quot;: &quot;FeatureCollection&quot;});\n",
       "\n",
       "        \n",
       "&lt;/script&gt;\n",
       "&lt;/html&gt;\" style=\"position:absolute;width:100%;height:100%;left:0;top:0;border:none !important;\" allowfullscreen webkitallowfullscreen mozallowfullscreen></iframe></div></div>"
      ],
      "text/plain": [
       "<folium.folium.Map at 0x299dc4cada0>"
      ]
     },
     "execution_count": 4,
     "metadata": {},
     "output_type": "execute_result"
    }
   ],
   "source": [
    "\n",
    "crs = shapes.crs\n",
    "\n",
    "# OpenStreetMap\n",
    "map = folium.Map(location=[centroid_y, centroid_x], tiles=\"OpenStreetMap\", zoom_start=25)\n",
    "folium.GeoJson(shapes).add_to(map)\n",
    "map"
   ]
  },
  {
   "cell_type": "code",
   "execution_count": 5,
   "metadata": {},
   "outputs": [
    {
     "data": {
      "text/html": [
       "<div>\n",
       "<style scoped>\n",
       "    .dataframe tbody tr th:only-of-type {\n",
       "        vertical-align: middle;\n",
       "    }\n",
       "\n",
       "    .dataframe tbody tr th {\n",
       "        vertical-align: top;\n",
       "    }\n",
       "\n",
       "    .dataframe thead th {\n",
       "        text-align: right;\n",
       "    }\n",
       "</style>\n",
       "<table border=\"1\" class=\"dataframe\">\n",
       "  <thead>\n",
       "    <tr style=\"text-align: right;\">\n",
       "      <th></th>\n",
       "      <th>id</th>\n",
       "      <th>geometry</th>\n",
       "    </tr>\n",
       "  </thead>\n",
       "  <tbody>\n",
       "    <tr>\n",
       "      <th>0</th>\n",
       "      <td>1</td>\n",
       "      <td>POLYGON ((-122.62555 38.23676, -122.62553 38.2...</td>\n",
       "    </tr>\n",
       "    <tr>\n",
       "      <th>1</th>\n",
       "      <td>2</td>\n",
       "      <td>POLYGON ((-122.62548 38.23672, -122.62545 38.2...</td>\n",
       "    </tr>\n",
       "  </tbody>\n",
       "</table>\n",
       "</div>"
      ],
      "text/plain": [
       "   id                                           geometry\n",
       "0   1  POLYGON ((-122.62555 38.23676, -122.62553 38.2...\n",
       "1   2  POLYGON ((-122.62548 38.23672, -122.62545 38.2..."
      ]
     },
     "execution_count": 5,
     "metadata": {},
     "output_type": "execute_result"
    }
   ],
   "source": [
    "shapes.head()   \n"
   ]
  },
  {
   "cell_type": "code",
   "execution_count": 6,
   "metadata": {},
   "outputs": [
    {
     "name": "stdout",
     "output_type": "stream",
     "text": [
      "data temp: 1    2\n",
      "Name: id, dtype: int64\n"
     ]
    }
   ],
   "source": [
    "\n",
    "data_overlaps=gpd.GeoDataFrame(columns=['id','geometry'],geometry='geometry', crs=shapes.crs)\n",
    "\n",
    "for index, row in shapes.iterrows():\n",
    "    row_geom = row.geometry\n",
    "    row_id = row.id\n",
    "    data_temp1 = shapes.loc[shapes.id!=row_id]\n",
    "    print(f'data temp: {data_temp1.id}')\n",
    "    # check if intersection occured\n",
    "    overlaps=data_temp1[data_temp1.geometry.overlaps(row.geometry)]['id'].tolist()\n",
    "\n",
    "\n",
    "    if len(overlaps)>0:\n",
    "        temp_list=[]\n",
    "\n",
    "\n",
    "        # compare the area with threshold\n",
    "\n",
    "        \n",
    "        for y in overlaps:\n",
    "            overlap_geom = shapes.loc[shapes.id==y, 'geometry'].values[0]\n",
    "            intersect_geom = intersection(row_geom, overlap_geom)\n",
    "            #temp_area=gpd.overlay(,shapes.loc[shapes.id==row.id,],how='intersection')\n",
    "\n",
    "            #data_overlaps=gpd.GeoDataFrame(pd.concat([temp_area,data_overlaps],ignore_index=True),crs=shapes.crs)\n",
    "            #data_overlaps = pd.concat([data_overlaps,temp_area],ignore_index=True)\n",
    "\n",
    "    break\n",
    "# data_overlaps.to_file('overlaps.shp')\n",
    "# # get unique of list id\n",
    "# data_overlaps['sorted']=data_overlaps.apply(lambda y: sorted([y['id_1'],y['id_2']]),axis=1)\n",
    "# #data_overlaps['sorted']=data_overlaps.sorted.apply(lambda y: ''.join(y))\n",
    "# #data_overlaps=data_overlaps.drop_duplicates('sorted')\n",
    "# #data_overlaps=data_overlaps.reset_index()[['id_1','id_2','geometry']]"
   ]
  },
  {
   "cell_type": "code",
   "execution_count": 7,
   "metadata": {},
   "outputs": [
    {
     "data": {
      "image/svg+xml": [
       "<svg xmlns=\"http://www.w3.org/2000/svg\" xmlns:xlink=\"http://www.w3.org/1999/xlink\" width=\"100.0\" height=\"100.0\" viewBox=\"-122.62555155077314 38.23662808042143 7.925887152282485e-05 9.451012881100951e-05\" preserveAspectRatio=\"xMinYMin meet\"><g transform=\"matrix(1,0,0,-1,0,76.47335067097168)\"><path fill-rule=\"evenodd\" fill=\"#66cc99\" stroke=\"#555555\" stroke-width=\"1.8902025762201902e-06\" opacity=\"0.6\" d=\"M -122.625497281551,38.2366948623276 L -122.625503651807,38.2366948623275 L -122.625503651787,38.2367079891285 L -122.625515051179,38.236701101611 L -122.625515051196,38.2366879165882 L -122.625510692596,38.2366806416307 L -122.625501975417,38.236678008168 L -122.625501975417,38.236658520535 L -122.625515449715,38.2366585205468 L -122.62554651205511,38.236631580796576 L -122.625548050398,38.2366324383039 L -122.625523433089,38.2366599115221 L -122.625523433089,38.2367190901751 L -122.62547579227676,38.236716856146224 L -122.625497281551,38.2366948623276 z\" /></g></svg>"
      ],
      "text/plain": [
       "<POLYGON ((-122.625 38.237, -122.626 38.237, -122.626 38.237, -122.626 38.23...>"
      ]
     },
     "execution_count": 7,
     "metadata": {},
     "output_type": "execute_result"
    }
   ],
   "source": [
    "intersect_geom"
   ]
  },
  {
   "cell_type": "code",
   "execution_count": 8,
   "metadata": {},
   "outputs": [
    {
     "data": {
      "text/html": [
       "<div style=\"width:100%;\"><div style=\"position:relative;width:100%;height:0;padding-bottom:60%;\"><span style=\"color:#565656\">Make this Notebook Trusted to load map: File -> Trust Notebook</span><iframe srcdoc=\"&lt;!DOCTYPE html&gt;\n",
       "&lt;html&gt;\n",
       "&lt;head&gt;\n",
       "    \n",
       "    &lt;meta http-equiv=&quot;content-type&quot; content=&quot;text/html; charset=UTF-8&quot; /&gt;\n",
       "    \n",
       "        &lt;script&gt;\n",
       "            L_NO_TOUCH = false;\n",
       "            L_DISABLE_3D = false;\n",
       "        &lt;/script&gt;\n",
       "    \n",
       "    &lt;style&gt;html, body {width: 100%;height: 100%;margin: 0;padding: 0;}&lt;/style&gt;\n",
       "    &lt;style&gt;#map {position:absolute;top:0;bottom:0;right:0;left:0;}&lt;/style&gt;\n",
       "    &lt;script src=&quot;https://cdn.jsdelivr.net/npm/leaflet@1.9.3/dist/leaflet.js&quot;&gt;&lt;/script&gt;\n",
       "    &lt;script src=&quot;https://code.jquery.com/jquery-1.12.4.min.js&quot;&gt;&lt;/script&gt;\n",
       "    &lt;script src=&quot;https://cdn.jsdelivr.net/npm/bootstrap@5.2.2/dist/js/bootstrap.bundle.min.js&quot;&gt;&lt;/script&gt;\n",
       "    &lt;script src=&quot;https://cdnjs.cloudflare.com/ajax/libs/Leaflet.awesome-markers/2.0.2/leaflet.awesome-markers.js&quot;&gt;&lt;/script&gt;\n",
       "    &lt;link rel=&quot;stylesheet&quot; href=&quot;https://cdn.jsdelivr.net/npm/leaflet@1.9.3/dist/leaflet.css&quot;/&gt;\n",
       "    &lt;link rel=&quot;stylesheet&quot; href=&quot;https://cdn.jsdelivr.net/npm/bootstrap@5.2.2/dist/css/bootstrap.min.css&quot;/&gt;\n",
       "    &lt;link rel=&quot;stylesheet&quot; href=&quot;https://netdna.bootstrapcdn.com/bootstrap/3.0.0/css/bootstrap.min.css&quot;/&gt;\n",
       "    &lt;link rel=&quot;stylesheet&quot; href=&quot;https://cdn.jsdelivr.net/npm/@fortawesome/fontawesome-free@6.2.0/css/all.min.css&quot;/&gt;\n",
       "    &lt;link rel=&quot;stylesheet&quot; href=&quot;https://cdnjs.cloudflare.com/ajax/libs/Leaflet.awesome-markers/2.0.2/leaflet.awesome-markers.css&quot;/&gt;\n",
       "    &lt;link rel=&quot;stylesheet&quot; href=&quot;https://cdn.jsdelivr.net/gh/python-visualization/folium/folium/templates/leaflet.awesome.rotate.min.css&quot;/&gt;\n",
       "    \n",
       "            &lt;meta name=&quot;viewport&quot; content=&quot;width=device-width,\n",
       "                initial-scale=1.0, maximum-scale=1.0, user-scalable=no&quot; /&gt;\n",
       "            &lt;style&gt;\n",
       "                #map_70e8438a4dd2c353f9aa2080bd37931f {\n",
       "                    position: relative;\n",
       "                    width: 100.0%;\n",
       "                    height: 100.0%;\n",
       "                    left: 0.0%;\n",
       "                    top: 0.0%;\n",
       "                }\n",
       "                .leaflet-container { font-size: 1rem; }\n",
       "            &lt;/style&gt;\n",
       "        \n",
       "&lt;/head&gt;\n",
       "&lt;body&gt;\n",
       "    \n",
       "    \n",
       "            &lt;div class=&quot;folium-map&quot; id=&quot;map_70e8438a4dd2c353f9aa2080bd37931f&quot; &gt;&lt;/div&gt;\n",
       "        \n",
       "&lt;/body&gt;\n",
       "&lt;script&gt;\n",
       "    \n",
       "    \n",
       "            var map_70e8438a4dd2c353f9aa2080bd37931f = L.map(\n",
       "                &quot;map_70e8438a4dd2c353f9aa2080bd37931f&quot;,\n",
       "                {\n",
       "                    center: [38.236679420085196, -122.62550925157649],\n",
       "                    crs: L.CRS.EPSG3857,\n",
       "                    zoom: 25,\n",
       "                    zoomControl: true,\n",
       "                    preferCanvas: false,\n",
       "                }\n",
       "            );\n",
       "\n",
       "            \n",
       "\n",
       "        \n",
       "    \n",
       "            var tile_layer_8009e945358f5c25d89f107abec9169a = L.tileLayer(\n",
       "                &quot;https://{s}.tile.openstreetmap.org/{z}/{x}/{y}.png&quot;,\n",
       "                {&quot;attribution&quot;: &quot;Data by \\u0026copy; \\u003ca target=\\&quot;_blank\\&quot; href=\\&quot;http://openstreetmap.org\\&quot;\\u003eOpenStreetMap\\u003c/a\\u003e, under \\u003ca target=\\&quot;_blank\\&quot; href=\\&quot;http://www.openstreetmap.org/copyright\\&quot;\\u003eODbL\\u003c/a\\u003e.&quot;, &quot;detectRetina&quot;: false, &quot;maxNativeZoom&quot;: 18, &quot;maxZoom&quot;: 18, &quot;minZoom&quot;: 0, &quot;noWrap&quot;: false, &quot;opacity&quot;: 1, &quot;subdomains&quot;: &quot;abc&quot;, &quot;tms&quot;: false}\n",
       "            ).addTo(map_70e8438a4dd2c353f9aa2080bd37931f);\n",
       "        \n",
       "    \n",
       "\n",
       "        function geo_json_e3abacf12ba170b2a5288bc67bcb8d46_onEachFeature(feature, layer) {\n",
       "            layer.on({\n",
       "            });\n",
       "        };\n",
       "        var geo_json_e3abacf12ba170b2a5288bc67bcb8d46 = L.geoJson(null, {\n",
       "                onEachFeature: geo_json_e3abacf12ba170b2a5288bc67bcb8d46_onEachFeature,\n",
       "            \n",
       "        });\n",
       "\n",
       "        function geo_json_e3abacf12ba170b2a5288bc67bcb8d46_add (data) {\n",
       "            geo_json_e3abacf12ba170b2a5288bc67bcb8d46\n",
       "                .addData(data)\n",
       "                .addTo(map_70e8438a4dd2c353f9aa2080bd37931f);\n",
       "        }\n",
       "            geo_json_e3abacf12ba170b2a5288bc67bcb8d46_add({&quot;coordinates&quot;: [[[-122.625497281551, 38.2366948623276], [-122.625503651807, 38.2366948623275], [-122.625503651787, 38.2367079891285], [-122.625515051179, 38.236701101611], [-122.625515051196, 38.2366879165882], [-122.625510692596, 38.2366806416307], [-122.625501975417, 38.236678008168], [-122.625501975417, 38.236658520535], [-122.625515449715, 38.2366585205468], [-122.62554651205511, 38.236631580796576], [-122.625548050398, 38.2366324383039], [-122.625523433089, 38.2366599115221], [-122.625523433089, 38.2367190901751], [-122.62547579227676, 38.236716856146224], [-122.625497281551, 38.2366948623276]]], &quot;type&quot;: &quot;Polygon&quot;});\n",
       "\n",
       "        \n",
       "&lt;/script&gt;\n",
       "&lt;/html&gt;\" style=\"position:absolute;width:100%;height:100%;left:0;top:0;border:none !important;\" allowfullscreen webkitallowfullscreen mozallowfullscreen></iframe></div></div>"
      ],
      "text/plain": [
       "<folium.folium.Map at 0x299dcd7f550>"
      ]
     },
     "execution_count": 8,
     "metadata": {},
     "output_type": "execute_result"
    }
   ],
   "source": [
    "# OpenStreetMap\n",
    "map = folium.Map(location=[centroid_y, centroid_x], tiles=\"OpenStreetMap\", zoom_start=25)\n",
    "folium.GeoJson(intersect_geom).add_to(map)\n",
    "#folium.GeoJson(g3).add_to(map)\n",
    "map"
   ]
  },
  {
   "cell_type": "code",
   "execution_count": 9,
   "metadata": {},
   "outputs": [
    {
     "data": {
      "text/plain": [
       "0    POLYGON ((-122.62553 38.23678, -122.62549 38.2...\n",
       "1    POLYGON ((-122.62545 38.23674, -122.62538 38.2...\n",
       "dtype: geometry"
      ]
     },
     "execution_count": 9,
     "metadata": {},
     "output_type": "execute_result"
    }
   ],
   "source": [
    "fixed_geom = shapes.symmetric_difference(intersect_geom)\n",
    "fixed_geom"
   ]
  },
  {
   "cell_type": "code",
   "execution_count": 11,
   "metadata": {},
   "outputs": [
    {
     "data": {
      "text/html": [
       "<div>\n",
       "<style scoped>\n",
       "    .dataframe tbody tr th:only-of-type {\n",
       "        vertical-align: middle;\n",
       "    }\n",
       "\n",
       "    .dataframe tbody tr th {\n",
       "        vertical-align: top;\n",
       "    }\n",
       "\n",
       "    .dataframe thead th {\n",
       "        text-align: right;\n",
       "    }\n",
       "</style>\n",
       "<table border=\"1\" class=\"dataframe\">\n",
       "  <thead>\n",
       "    <tr style=\"text-align: right;\">\n",
       "      <th></th>\n",
       "      <th>geometry</th>\n",
       "    </tr>\n",
       "  </thead>\n",
       "  <tbody>\n",
       "    <tr>\n",
       "      <th>0</th>\n",
       "      <td>POLYGON ((-122.62553 38.23678, -122.62549 38.2...</td>\n",
       "    </tr>\n",
       "    <tr>\n",
       "      <th>1</th>\n",
       "      <td>POLYGON ((-122.62545 38.23674, -122.62538 38.2...</td>\n",
       "    </tr>\n",
       "  </tbody>\n",
       "</table>\n",
       "</div>"
      ],
      "text/plain": [
       "                                            geometry\n",
       "0  POLYGON ((-122.62553 38.23678, -122.62549 38.2...\n",
       "1  POLYGON ((-122.62545 38.23674, -122.62538 38.2..."
      ]
     },
     "execution_count": 11,
     "metadata": {},
     "output_type": "execute_result"
    }
   ],
   "source": [
    "#geoseries to geodataframe\n",
    "fixed_geom = gpd.GeoDataFrame(geometry=fixed_geom)\n",
    "fixed_geom"
   ]
  },
  {
   "cell_type": "code",
   "execution_count": 12,
   "metadata": {},
   "outputs": [
    {
     "data": {
      "text/html": [
       "<div>\n",
       "<style scoped>\n",
       "    .dataframe tbody tr th:only-of-type {\n",
       "        vertical-align: middle;\n",
       "    }\n",
       "\n",
       "    .dataframe tbody tr th {\n",
       "        vertical-align: top;\n",
       "    }\n",
       "\n",
       "    .dataframe thead th {\n",
       "        text-align: right;\n",
       "    }\n",
       "</style>\n",
       "<table border=\"1\" class=\"dataframe\">\n",
       "  <thead>\n",
       "    <tr style=\"text-align: right;\">\n",
       "      <th></th>\n",
       "      <th>index</th>\n",
       "      <th>geometry</th>\n",
       "    </tr>\n",
       "  </thead>\n",
       "  <tbody>\n",
       "    <tr>\n",
       "      <th>0</th>\n",
       "      <td>0</td>\n",
       "      <td>POLYGON ((-122.62553 38.23678, -122.62549 38.2...</td>\n",
       "    </tr>\n",
       "    <tr>\n",
       "      <th>1</th>\n",
       "      <td>1</td>\n",
       "      <td>POLYGON ((-122.62545 38.23674, -122.62538 38.2...</td>\n",
       "    </tr>\n",
       "  </tbody>\n",
       "</table>\n",
       "</div>"
      ],
      "text/plain": [
       "   index                                           geometry\n",
       "0      0  POLYGON ((-122.62553 38.23678, -122.62549 38.2...\n",
       "1      1  POLYGON ((-122.62545 38.23674, -122.62538 38.2..."
      ]
     },
     "execution_count": 12,
     "metadata": {},
     "output_type": "execute_result"
    }
   ],
   "source": [
    "fixed_geom = fixed_geom.reset_index()\n",
    "fixed_geom"
   ]
  },
  {
   "cell_type": "code",
   "execution_count": 13,
   "metadata": {},
   "outputs": [
    {
     "data": {
      "text/html": [
       "<div style=\"width:100%;\"><div style=\"position:relative;width:100%;height:0;padding-bottom:60%;\"><span style=\"color:#565656\">Make this Notebook Trusted to load map: File -> Trust Notebook</span><iframe srcdoc=\"&lt;!DOCTYPE html&gt;\n",
       "&lt;html&gt;\n",
       "&lt;head&gt;\n",
       "    \n",
       "    &lt;meta http-equiv=&quot;content-type&quot; content=&quot;text/html; charset=UTF-8&quot; /&gt;\n",
       "    \n",
       "        &lt;script&gt;\n",
       "            L_NO_TOUCH = false;\n",
       "            L_DISABLE_3D = false;\n",
       "        &lt;/script&gt;\n",
       "    \n",
       "    &lt;style&gt;html, body {width: 100%;height: 100%;margin: 0;padding: 0;}&lt;/style&gt;\n",
       "    &lt;style&gt;#map {position:absolute;top:0;bottom:0;right:0;left:0;}&lt;/style&gt;\n",
       "    &lt;script src=&quot;https://cdn.jsdelivr.net/npm/leaflet@1.9.3/dist/leaflet.js&quot;&gt;&lt;/script&gt;\n",
       "    &lt;script src=&quot;https://code.jquery.com/jquery-1.12.4.min.js&quot;&gt;&lt;/script&gt;\n",
       "    &lt;script src=&quot;https://cdn.jsdelivr.net/npm/bootstrap@5.2.2/dist/js/bootstrap.bundle.min.js&quot;&gt;&lt;/script&gt;\n",
       "    &lt;script src=&quot;https://cdnjs.cloudflare.com/ajax/libs/Leaflet.awesome-markers/2.0.2/leaflet.awesome-markers.js&quot;&gt;&lt;/script&gt;\n",
       "    &lt;link rel=&quot;stylesheet&quot; href=&quot;https://cdn.jsdelivr.net/npm/leaflet@1.9.3/dist/leaflet.css&quot;/&gt;\n",
       "    &lt;link rel=&quot;stylesheet&quot; href=&quot;https://cdn.jsdelivr.net/npm/bootstrap@5.2.2/dist/css/bootstrap.min.css&quot;/&gt;\n",
       "    &lt;link rel=&quot;stylesheet&quot; href=&quot;https://netdna.bootstrapcdn.com/bootstrap/3.0.0/css/bootstrap.min.css&quot;/&gt;\n",
       "    &lt;link rel=&quot;stylesheet&quot; href=&quot;https://cdn.jsdelivr.net/npm/@fortawesome/fontawesome-free@6.2.0/css/all.min.css&quot;/&gt;\n",
       "    &lt;link rel=&quot;stylesheet&quot; href=&quot;https://cdnjs.cloudflare.com/ajax/libs/Leaflet.awesome-markers/2.0.2/leaflet.awesome-markers.css&quot;/&gt;\n",
       "    &lt;link rel=&quot;stylesheet&quot; href=&quot;https://cdn.jsdelivr.net/gh/python-visualization/folium/folium/templates/leaflet.awesome.rotate.min.css&quot;/&gt;\n",
       "    \n",
       "            &lt;meta name=&quot;viewport&quot; content=&quot;width=device-width,\n",
       "                initial-scale=1.0, maximum-scale=1.0, user-scalable=no&quot; /&gt;\n",
       "            &lt;style&gt;\n",
       "                #map_6478adab8c2d75acf27cb0195cc91377 {\n",
       "                    position: relative;\n",
       "                    width: 100.0%;\n",
       "                    height: 100.0%;\n",
       "                    left: 0.0%;\n",
       "                    top: 0.0%;\n",
       "                }\n",
       "                .leaflet-container { font-size: 1rem; }\n",
       "            &lt;/style&gt;\n",
       "        \n",
       "&lt;/head&gt;\n",
       "&lt;body&gt;\n",
       "    \n",
       "    \n",
       "            &lt;div class=&quot;folium-map&quot; id=&quot;map_6478adab8c2d75acf27cb0195cc91377&quot; &gt;&lt;/div&gt;\n",
       "        \n",
       "&lt;/body&gt;\n",
       "&lt;script&gt;\n",
       "    \n",
       "    \n",
       "            var map_6478adab8c2d75acf27cb0195cc91377 = L.map(\n",
       "                &quot;map_6478adab8c2d75acf27cb0195cc91377&quot;,\n",
       "                {\n",
       "                    center: [38.236679420085196, -122.62550925157649],\n",
       "                    crs: L.CRS.EPSG3857,\n",
       "                    zoom: 25,\n",
       "                    zoomControl: true,\n",
       "                    preferCanvas: false,\n",
       "                }\n",
       "            );\n",
       "\n",
       "            \n",
       "\n",
       "        \n",
       "    \n",
       "            var tile_layer_519d155a96c71e5934e5c07713a3273f = L.tileLayer(\n",
       "                &quot;https://{s}.tile.openstreetmap.org/{z}/{x}/{y}.png&quot;,\n",
       "                {&quot;attribution&quot;: &quot;Data by \\u0026copy; \\u003ca target=\\&quot;_blank\\&quot; href=\\&quot;http://openstreetmap.org\\&quot;\\u003eOpenStreetMap\\u003c/a\\u003e, under \\u003ca target=\\&quot;_blank\\&quot; href=\\&quot;http://www.openstreetmap.org/copyright\\&quot;\\u003eODbL\\u003c/a\\u003e.&quot;, &quot;detectRetina&quot;: false, &quot;maxNativeZoom&quot;: 18, &quot;maxZoom&quot;: 18, &quot;minZoom&quot;: 0, &quot;noWrap&quot;: false, &quot;opacity&quot;: 1, &quot;subdomains&quot;: &quot;abc&quot;, &quot;tms&quot;: false}\n",
       "            ).addTo(map_6478adab8c2d75acf27cb0195cc91377);\n",
       "        \n",
       "    \n",
       "\n",
       "        function geo_json_c2fb33dd0ec2e3cc2833ec4a0975bd6e_onEachFeature(feature, layer) {\n",
       "            layer.on({\n",
       "            });\n",
       "        };\n",
       "        var geo_json_c2fb33dd0ec2e3cc2833ec4a0975bd6e = L.geoJson(null, {\n",
       "                onEachFeature: geo_json_c2fb33dd0ec2e3cc2833ec4a0975bd6e_onEachFeature,\n",
       "            \n",
       "        });\n",
       "\n",
       "        function geo_json_c2fb33dd0ec2e3cc2833ec4a0975bd6e_add (data) {\n",
       "            geo_json_c2fb33dd0ec2e3cc2833ec4a0975bd6e\n",
       "                .addData(data)\n",
       "                .addTo(map_6478adab8c2d75acf27cb0195cc91377);\n",
       "        }\n",
       "            geo_json_c2fb33dd0ec2e3cc2833ec4a0975bd6e_add({&quot;bbox&quot;: [-122.625641450286, 38.2365770736445, -122.625377052867, 38.2367817665259], &quot;features&quot;: [{&quot;bbox&quot;: [-122.625641450286, 38.236628047618, -122.625473812204, 38.2367817665259], &quot;geometry&quot;: {&quot;coordinates&quot;: [[[-122.625526785851, 38.2367817665259], [-122.62548789382, 38.2367591187751], [-122.625473812204, 38.2367345932141], [-122.625473812234, 38.2367188826782], [-122.62547579227676, 38.236716856146224], [-122.625523433089, 38.2367190901751], [-122.625523433089, 38.2366599115221], [-122.625548050398, 38.2366324383039], [-122.62554651205511, 38.236631580796576], [-122.625550585916, 38.236628047618], [-122.625575648957, 38.2366460250507], [-122.625597864389, 38.2366321859019], [-122.625641450286, 38.2366585205411], [-122.625611945987, 38.2366922288654], [-122.625611945987, 38.2367556952846], [-122.625554446138, 38.2367556952704], [-122.625526785851, 38.2367817665259]]], &quot;type&quot;: &quot;Polygon&quot;}, &quot;id&quot;: &quot;0&quot;, &quot;properties&quot;: {&quot;index&quot;: 0}, &quot;type&quot;: &quot;Feature&quot;}, {&quot;bbox&quot;: [-122.625548050398, 38.2365770736445, -122.625377052867, 38.2367439770229], &quot;geometry&quot;: {&quot;coordinates&quot;: [[[-122.6254511289, 38.2367439770229], [-122.625377052867, 38.2367026852988], [-122.62548960713, 38.2365770736445], [-122.625533602781, 38.236601597846], [-122.625519985866, 38.2366167944952], [-122.625548050398, 38.2366324383039], [-122.62554651205511, 38.236631580796576], [-122.625515449715, 38.2366585205468], [-122.625501975417, 38.236658520535], [-122.625501975417, 38.236678008168], [-122.625510692596, 38.2366806416307], [-122.625515051196, 38.2366879165882], [-122.625515051179, 38.236701101611], [-122.625503651787, 38.2367079891285], [-122.625503651807, 38.2366948623275], [-122.625497281551, 38.2366948623276], [-122.62547579227676, 38.236716856146224], [-122.625475445149, 38.2367168398683], [-122.6254511289, 38.2367439770229]]], &quot;type&quot;: &quot;Polygon&quot;}, &quot;id&quot;: &quot;1&quot;, &quot;properties&quot;: {&quot;index&quot;: 1}, &quot;type&quot;: &quot;Feature&quot;}], &quot;type&quot;: &quot;FeatureCollection&quot;});\n",
       "\n",
       "        \n",
       "&lt;/script&gt;\n",
       "&lt;/html&gt;\" style=\"position:absolute;width:100%;height:100%;left:0;top:0;border:none !important;\" allowfullscreen webkitallowfullscreen mozallowfullscreen></iframe></div></div>"
      ],
      "text/plain": [
       "<folium.folium.Map at 0x299dcd7ef50>"
      ]
     },
     "execution_count": 13,
     "metadata": {},
     "output_type": "execute_result"
    }
   ],
   "source": [
    "\n",
    "# OpenStreetMap\n",
    "map = folium.Map(location=[centroid_y, centroid_x], tiles=\"OpenStreetMap\", zoom_start=25)\n",
    "folium.GeoJson(fixed_geom).add_to(map)\n",
    "\n",
    "map\n",
    "\n",
    "#fixed_geom.to_file('fixed.shp')"
   ]
  },
  {
   "cell_type": "code",
   "execution_count": 14,
   "metadata": {},
   "outputs": [],
   "source": [
    "from shapely.ops import unary_union"
   ]
  },
  {
   "cell_type": "code",
   "execution_count": 15,
   "metadata": {},
   "outputs": [
    {
     "data": {
      "text/plain": [
       "<Derived Projected CRS: EPSG:32610>\n",
       "Name: WGS 84 / UTM zone 10N\n",
       "Axis Info [cartesian]:\n",
       "- E[east]: Easting (metre)\n",
       "- N[north]: Northing (metre)\n",
       "Area of Use:\n",
       "- name: Between 126°W and 120°W, northern hemisphere between equator and 84°N, onshore and offshore. Canada - British Columbia (BC); Northwest Territories (NWT); Nunavut; Yukon. United States (USA) - Alaska (AK).\n",
       "- bounds: (-126.0, 0.0, -120.0, 84.0)\n",
       "Coordinate Operation:\n",
       "- name: UTM zone 10N\n",
       "- method: Transverse Mercator\n",
       "Datum: World Geodetic System 1984 ensemble\n",
       "- Ellipsoid: WGS 84\n",
       "- Prime Meridian: Greenwich"
      ]
     },
     "execution_count": 15,
     "metadata": {},
     "output_type": "execute_result"
    }
   ],
   "source": [
    "fixed_reproj = fixed_geom.to_crs(epsg=32610)\n",
    "fixed_reproj.crs"
   ]
  },
  {
   "cell_type": "code",
   "execution_count": 16,
   "metadata": {},
   "outputs": [],
   "source": [
    "fixed_union = fixed_reproj.unary_union\n",
    "\n",
    "#fixed_geom_buff = new.buffer(50).buffer(-50)"
   ]
  },
  {
   "cell_type": "code",
   "execution_count": 17,
   "metadata": {},
   "outputs": [
    {
     "data": {
      "text/html": [
       "<div>\n",
       "<style scoped>\n",
       "    .dataframe tbody tr th:only-of-type {\n",
       "        vertical-align: middle;\n",
       "    }\n",
       "\n",
       "    .dataframe tbody tr th {\n",
       "        vertical-align: top;\n",
       "    }\n",
       "\n",
       "    .dataframe thead th {\n",
       "        text-align: right;\n",
       "    }\n",
       "</style>\n",
       "<table border=\"1\" class=\"dataframe\">\n",
       "  <thead>\n",
       "    <tr style=\"text-align: right;\">\n",
       "      <th></th>\n",
       "      <th>geometry</th>\n",
       "    </tr>\n",
       "  </thead>\n",
       "  <tbody>\n",
       "    <tr>\n",
       "      <th>0</th>\n",
       "      <td>MULTIPOLYGON (((532784.949 4232144.541, 532775...</td>\n",
       "    </tr>\n",
       "  </tbody>\n",
       "</table>\n",
       "</div>"
      ],
      "text/plain": [
       "                                            geometry\n",
       "0  MULTIPOLYGON (((532784.949 4232144.541, 532775..."
      ]
     },
     "execution_count": 17,
     "metadata": {},
     "output_type": "execute_result"
    }
   ],
   "source": [
    "fixed_union_gdf = gpd.GeoDataFrame(geometry=[fixed_union], crs=32610)\n",
    "fixed_union_gdf"
   ]
  },
  {
   "cell_type": "code",
   "execution_count": 18,
   "metadata": {},
   "outputs": [],
   "source": [
    "fixed_union_gdf['geometry'] = fixed_union_gdf['geometry'].buffer(50)\n",
    "fixed_union_gdf['geometry'] = fixed_union_gdf['geometry'].buffer(-50)"
   ]
  },
  {
   "cell_type": "code",
   "execution_count": 19,
   "metadata": {},
   "outputs": [
    {
     "data": {
      "text/html": [
       "<div style=\"width:100%;\"><div style=\"position:relative;width:100%;height:0;padding-bottom:60%;\"><span style=\"color:#565656\">Make this Notebook Trusted to load map: File -> Trust Notebook</span><iframe srcdoc=\"&lt;!DOCTYPE html&gt;\n",
       "&lt;html&gt;\n",
       "&lt;head&gt;\n",
       "    \n",
       "    &lt;meta http-equiv=&quot;content-type&quot; content=&quot;text/html; charset=UTF-8&quot; /&gt;\n",
       "    \n",
       "        &lt;script&gt;\n",
       "            L_NO_TOUCH = false;\n",
       "            L_DISABLE_3D = false;\n",
       "        &lt;/script&gt;\n",
       "    \n",
       "    &lt;style&gt;html, body {width: 100%;height: 100%;margin: 0;padding: 0;}&lt;/style&gt;\n",
       "    &lt;style&gt;#map {position:absolute;top:0;bottom:0;right:0;left:0;}&lt;/style&gt;\n",
       "    &lt;script src=&quot;https://cdn.jsdelivr.net/npm/leaflet@1.9.3/dist/leaflet.js&quot;&gt;&lt;/script&gt;\n",
       "    &lt;script src=&quot;https://code.jquery.com/jquery-1.12.4.min.js&quot;&gt;&lt;/script&gt;\n",
       "    &lt;script src=&quot;https://cdn.jsdelivr.net/npm/bootstrap@5.2.2/dist/js/bootstrap.bundle.min.js&quot;&gt;&lt;/script&gt;\n",
       "    &lt;script src=&quot;https://cdnjs.cloudflare.com/ajax/libs/Leaflet.awesome-markers/2.0.2/leaflet.awesome-markers.js&quot;&gt;&lt;/script&gt;\n",
       "    &lt;link rel=&quot;stylesheet&quot; href=&quot;https://cdn.jsdelivr.net/npm/leaflet@1.9.3/dist/leaflet.css&quot;/&gt;\n",
       "    &lt;link rel=&quot;stylesheet&quot; href=&quot;https://cdn.jsdelivr.net/npm/bootstrap@5.2.2/dist/css/bootstrap.min.css&quot;/&gt;\n",
       "    &lt;link rel=&quot;stylesheet&quot; href=&quot;https://netdna.bootstrapcdn.com/bootstrap/3.0.0/css/bootstrap.min.css&quot;/&gt;\n",
       "    &lt;link rel=&quot;stylesheet&quot; href=&quot;https://cdn.jsdelivr.net/npm/@fortawesome/fontawesome-free@6.2.0/css/all.min.css&quot;/&gt;\n",
       "    &lt;link rel=&quot;stylesheet&quot; href=&quot;https://cdnjs.cloudflare.com/ajax/libs/Leaflet.awesome-markers/2.0.2/leaflet.awesome-markers.css&quot;/&gt;\n",
       "    &lt;link rel=&quot;stylesheet&quot; href=&quot;https://cdn.jsdelivr.net/gh/python-visualization/folium/folium/templates/leaflet.awesome.rotate.min.css&quot;/&gt;\n",
       "    \n",
       "            &lt;meta name=&quot;viewport&quot; content=&quot;width=device-width,\n",
       "                initial-scale=1.0, maximum-scale=1.0, user-scalable=no&quot; /&gt;\n",
       "            &lt;style&gt;\n",
       "                #map_d9f2a489b48347bd6116e2586a81e70e {\n",
       "                    position: relative;\n",
       "                    width: 100.0%;\n",
       "                    height: 100.0%;\n",
       "                    left: 0.0%;\n",
       "                    top: 0.0%;\n",
       "                }\n",
       "                .leaflet-container { font-size: 1rem; }\n",
       "            &lt;/style&gt;\n",
       "        \n",
       "&lt;/head&gt;\n",
       "&lt;body&gt;\n",
       "    \n",
       "    \n",
       "            &lt;div class=&quot;folium-map&quot; id=&quot;map_d9f2a489b48347bd6116e2586a81e70e&quot; &gt;&lt;/div&gt;\n",
       "        \n",
       "&lt;/body&gt;\n",
       "&lt;script&gt;\n",
       "    \n",
       "    \n",
       "            var map_d9f2a489b48347bd6116e2586a81e70e = L.map(\n",
       "                &quot;map_d9f2a489b48347bd6116e2586a81e70e&quot;,\n",
       "                {\n",
       "                    center: [38.236679420085196, -122.62550925157649],\n",
       "                    crs: L.CRS.EPSG3857,\n",
       "                    zoom: 25,\n",
       "                    zoomControl: true,\n",
       "                    preferCanvas: false,\n",
       "                }\n",
       "            );\n",
       "\n",
       "            \n",
       "\n",
       "        \n",
       "    \n",
       "            var tile_layer_b5fc343c43b5c5be53e4fc112f4e7ca1 = L.tileLayer(\n",
       "                &quot;https://{s}.tile.openstreetmap.org/{z}/{x}/{y}.png&quot;,\n",
       "                {&quot;attribution&quot;: &quot;Data by \\u0026copy; \\u003ca target=\\&quot;_blank\\&quot; href=\\&quot;http://openstreetmap.org\\&quot;\\u003eOpenStreetMap\\u003c/a\\u003e, under \\u003ca target=\\&quot;_blank\\&quot; href=\\&quot;http://www.openstreetmap.org/copyright\\&quot;\\u003eODbL\\u003c/a\\u003e.&quot;, &quot;detectRetina&quot;: false, &quot;maxNativeZoom&quot;: 18, &quot;maxZoom&quot;: 18, &quot;minZoom&quot;: 0, &quot;noWrap&quot;: false, &quot;opacity&quot;: 1, &quot;subdomains&quot;: &quot;abc&quot;, &quot;tms&quot;: false}\n",
       "            ).addTo(map_d9f2a489b48347bd6116e2586a81e70e);\n",
       "        \n",
       "    \n",
       "\n",
       "        function geo_json_61689cc679fee3f8f0cfe03288443542_onEachFeature(feature, layer) {\n",
       "            layer.on({\n",
       "            });\n",
       "        };\n",
       "        var geo_json_61689cc679fee3f8f0cfe03288443542 = L.geoJson(null, {\n",
       "                onEachFeature: geo_json_61689cc679fee3f8f0cfe03288443542_onEachFeature,\n",
       "            \n",
       "        });\n",
       "\n",
       "        function geo_json_61689cc679fee3f8f0cfe03288443542_add (data) {\n",
       "            geo_json_61689cc679fee3f8f0cfe03288443542\n",
       "                .addData(data)\n",
       "                .addTo(map_d9f2a489b48347bd6116e2586a81e70e);\n",
       "        }\n",
       "            geo_json_61689cc679fee3f8f0cfe03288443542_add({&quot;bbox&quot;: [-122.62564062548817, 38.23657779562591, -122.62537796824333, 38.23678111724931], &quot;features&quot;: [{&quot;bbox&quot;: [-122.62564062548817, 38.23657779562591, -122.62537796824333, 38.23678111724931], &quot;geometry&quot;: {&quot;coordinates&quot;: [[[-122.6256398756284, 38.23666105143211], [-122.62562480132864, 38.23669951169023], [-122.6256133696917, 38.2367444259719], [-122.62561132577063, 38.23675529382435], [-122.6255938350753, 38.23676022988287], [-122.62558650262095, 38.23676195148793], [-122.62553988470749, 38.2367765148863], [-122.62552685376396, 38.23678111724931], [-122.62550323132248, 38.236768759543835], [-122.6255031434272, 38.236768864065034], [-122.62548102241101, 38.236757077158], [-122.62546006525619, 38.23674782119458], [-122.62543972622072, 38.236737620907206], [-122.62538850645525, 38.23670906980456], [-122.62537796824333, 38.23670256124433], [-122.62538514756865, 38.23669365155109], [-122.6254815124543, 38.23658610739967], [-122.62548976441538, 38.23657779562591], [-122.62550106070844, 38.23658345813931], [-122.62553360278102, 38.23660159784599], [-122.62553384206552, 38.236601330801406], [-122.62554973602965, 38.2366103472148], [-122.6255896625491, 38.236629306578635], [-122.6255974765862, 38.23663268257493], [-122.62560939906173, 38.236639155165214], [-122.62562994796478, 38.236651570831405], [-122.62564062548817, 38.23665872790379], [-122.6256398756284, 38.23666105143211]]], &quot;type&quot;: &quot;Polygon&quot;}, &quot;id&quot;: &quot;0&quot;, &quot;properties&quot;: {}, &quot;type&quot;: &quot;Feature&quot;}], &quot;type&quot;: &quot;FeatureCollection&quot;});\n",
       "\n",
       "        \n",
       "&lt;/script&gt;\n",
       "&lt;/html&gt;\" style=\"position:absolute;width:100%;height:100%;left:0;top:0;border:none !important;\" allowfullscreen webkitallowfullscreen mozallowfullscreen></iframe></div></div>"
      ],
      "text/plain": [
       "<folium.folium.Map at 0x299dcd7e140>"
      ]
     },
     "execution_count": 19,
     "metadata": {},
     "output_type": "execute_result"
    }
   ],
   "source": [
    "# OpenStreetMap\n",
    "map = folium.Map(location=[centroid_y, centroid_x], tiles=\"OpenStreetMap\", zoom_start=25)\n",
    "folium.GeoJson(fixed_union_gdf).add_to(map)\n",
    "map"
   ]
  },
  {
   "cell_type": "code",
   "execution_count": null,
   "metadata": {},
   "outputs": [],
   "source": [
    "fixed_union_gdf = fixed_union_gdf.to_crs(4326)"
   ]
  },
  {
   "cell_type": "code",
   "execution_count": 33,
   "metadata": {},
   "outputs": [
    {
     "data": {
      "image/svg+xml": [
       "<svg xmlns=\"http://www.w3.org/2000/svg\" xmlns:xlink=\"http://www.w3.org/1999/xlink\" width=\"100.0\" height=\"100.0\" viewBox=\"-122.62564815580927 38.23662134209472 0.00018104912854255417 0.0001671299544554472\" preserveAspectRatio=\"xMinYMin meet\"><g transform=\"matrix(1,0,0,-1,0,76.4734098141439)\"><path fill-rule=\"evenodd\" fill=\"#66cc99\" stroke=\"#555555\" stroke-width=\"3.6209825708510833e-06\" opacity=\"0.6\" d=\"M -122.625554446138,38.2367556952704 L -122.625526785851,38.2367817665259 L -122.62548789382,38.2367591187751 L -122.625473812204,38.2367345932141 L -122.625473812234,38.2367188826782 L -122.625497281551,38.2366948623276 L -122.625503651807,38.2366948623275 L -122.625503651787,38.2367079891285 L -122.625515051179,38.236701101611 L -122.625515051196,38.2366879165882 L -122.625510692596,38.2366806416307 L -122.625501975417,38.236678008168 L -122.625501975417,38.236658520535 L -122.625515449715,38.2366585205468 L -122.625550585916,38.236628047618 L -122.625575648957,38.2366460250507 L -122.625597864389,38.2366321859019 L -122.625641450286,38.2366585205411 L -122.625611945987,38.2366922288654 L -122.625611945987,38.2367556952846 L -122.625554446138,38.2367556952704 z\" /></g></svg>"
      ],
      "text/plain": [
       "<POLYGON ((-122.626 38.237, -122.626 38.237, -122.625 38.237, -122.625 38.23...>"
      ]
     },
     "metadata": {},
     "output_type": "display_data"
    },
    {
     "data": {
      "image/svg+xml": [
       "<svg xmlns=\"http://www.w3.org/2000/svg\" xmlns:xlink=\"http://www.w3.org/1999/xlink\" width=\"100.0\" height=\"100.0\" viewBox=\"-122.62565113177797 38.236567289336115 0.00028366982444083533 0.00022433420298995088\" preserveAspectRatio=\"xMinYMin meet\"><g transform=\"matrix(1,0,0,-1,0,76.47335891287523)\"><path fill-rule=\"evenodd\" fill=\"#66cc99\" stroke=\"#555555\" stroke-width=\"5.673396488816706e-06\" opacity=\"0.6\" d=\"M -122.6256398756284,38.23666105143211 L -122.62562480132864,38.23669951169023 L -122.6256133696917,38.2367444259719 L -122.62561132577063,38.23675529382435 L -122.6255938350753,38.23676022988287 L -122.62558650262095,38.23676195148793 L -122.62553988470749,38.2367765148863 L -122.62552685376396,38.23678111724931 L -122.62550323132248,38.236768759543835 L -122.6255031434272,38.236768864065034 L -122.62548102241101,38.236757077158 L -122.62546006525619,38.23674782119458 L -122.62543972622072,38.236737620907206 L -122.62538850645525,38.23670906980456 L -122.62537796824333,38.23670256124433 L -122.62538514756865,38.23669365155109 L -122.6254815124543,38.23658610739967 L -122.62548976441538,38.23657779562591 L -122.62550106070844,38.23658345813931 L -122.62553360278102,38.23660159784599 L -122.62553384206552,38.236601330801406 L -122.62554973602965,38.2366103472148 L -122.6255896625491,38.236629306578635 L -122.6255974765862,38.23663268257493 L -122.62560939906173,38.236639155165214 L -122.62562994796478,38.236651570831405 L -122.62564062548817,38.23665872790379 L -122.6256398756284,38.23666105143211 z\" /></g></svg>"
      ],
      "text/plain": [
       "<POLYGON ((-122.626 38.237, -122.626 38.237, -122.626 38.237, -122.626 38.23...>"
      ]
     },
     "metadata": {},
     "output_type": "display_data"
    }
   ],
   "source": [
    "canidate_fixed_geom = shapes.iloc[0].geometry\n",
    "canidate_union = fixed_union_gdf.iloc[0].geometry\n",
    "display(canidate_fixed_geom)\n",
    "display(canidate_union)"
   ]
  },
  {
   "cell_type": "code",
   "execution_count": 34,
   "metadata": {},
   "outputs": [],
   "source": [
    "from shapely import difference"
   ]
  },
  {
   "cell_type": "code",
   "execution_count": 35,
   "metadata": {},
   "outputs": [],
   "source": [
    "\n",
    "split = difference(canidate_union, canidate_fixed_geom)\n"
   ]
  },
  {
   "cell_type": "code",
   "execution_count": 36,
   "metadata": {},
   "outputs": [
    {
     "data": {
      "text/html": [
       "<div style=\"width:100%;\"><div style=\"position:relative;width:100%;height:0;padding-bottom:60%;\"><span style=\"color:#565656\">Make this Notebook Trusted to load map: File -> Trust Notebook</span><iframe srcdoc=\"&lt;!DOCTYPE html&gt;\n",
       "&lt;html&gt;\n",
       "&lt;head&gt;\n",
       "    \n",
       "    &lt;meta http-equiv=&quot;content-type&quot; content=&quot;text/html; charset=UTF-8&quot; /&gt;\n",
       "    \n",
       "        &lt;script&gt;\n",
       "            L_NO_TOUCH = false;\n",
       "            L_DISABLE_3D = false;\n",
       "        &lt;/script&gt;\n",
       "    \n",
       "    &lt;style&gt;html, body {width: 100%;height: 100%;margin: 0;padding: 0;}&lt;/style&gt;\n",
       "    &lt;style&gt;#map {position:absolute;top:0;bottom:0;right:0;left:0;}&lt;/style&gt;\n",
       "    &lt;script src=&quot;https://cdn.jsdelivr.net/npm/leaflet@1.9.3/dist/leaflet.js&quot;&gt;&lt;/script&gt;\n",
       "    &lt;script src=&quot;https://code.jquery.com/jquery-1.12.4.min.js&quot;&gt;&lt;/script&gt;\n",
       "    &lt;script src=&quot;https://cdn.jsdelivr.net/npm/bootstrap@5.2.2/dist/js/bootstrap.bundle.min.js&quot;&gt;&lt;/script&gt;\n",
       "    &lt;script src=&quot;https://cdnjs.cloudflare.com/ajax/libs/Leaflet.awesome-markers/2.0.2/leaflet.awesome-markers.js&quot;&gt;&lt;/script&gt;\n",
       "    &lt;link rel=&quot;stylesheet&quot; href=&quot;https://cdn.jsdelivr.net/npm/leaflet@1.9.3/dist/leaflet.css&quot;/&gt;\n",
       "    &lt;link rel=&quot;stylesheet&quot; href=&quot;https://cdn.jsdelivr.net/npm/bootstrap@5.2.2/dist/css/bootstrap.min.css&quot;/&gt;\n",
       "    &lt;link rel=&quot;stylesheet&quot; href=&quot;https://netdna.bootstrapcdn.com/bootstrap/3.0.0/css/bootstrap.min.css&quot;/&gt;\n",
       "    &lt;link rel=&quot;stylesheet&quot; href=&quot;https://cdn.jsdelivr.net/npm/@fortawesome/fontawesome-free@6.2.0/css/all.min.css&quot;/&gt;\n",
       "    &lt;link rel=&quot;stylesheet&quot; href=&quot;https://cdnjs.cloudflare.com/ajax/libs/Leaflet.awesome-markers/2.0.2/leaflet.awesome-markers.css&quot;/&gt;\n",
       "    &lt;link rel=&quot;stylesheet&quot; href=&quot;https://cdn.jsdelivr.net/gh/python-visualization/folium/folium/templates/leaflet.awesome.rotate.min.css&quot;/&gt;\n",
       "    \n",
       "            &lt;meta name=&quot;viewport&quot; content=&quot;width=device-width,\n",
       "                initial-scale=1.0, maximum-scale=1.0, user-scalable=no&quot; /&gt;\n",
       "            &lt;style&gt;\n",
       "                #map_058f3c3faca05a792a24875655bc45a8 {\n",
       "                    position: relative;\n",
       "                    width: 100.0%;\n",
       "                    height: 100.0%;\n",
       "                    left: 0.0%;\n",
       "                    top: 0.0%;\n",
       "                }\n",
       "                .leaflet-container { font-size: 1rem; }\n",
       "            &lt;/style&gt;\n",
       "        \n",
       "&lt;/head&gt;\n",
       "&lt;body&gt;\n",
       "    \n",
       "    \n",
       "            &lt;div class=&quot;folium-map&quot; id=&quot;map_058f3c3faca05a792a24875655bc45a8&quot; &gt;&lt;/div&gt;\n",
       "        \n",
       "&lt;/body&gt;\n",
       "&lt;script&gt;\n",
       "    \n",
       "    \n",
       "            var map_058f3c3faca05a792a24875655bc45a8 = L.map(\n",
       "                &quot;map_058f3c3faca05a792a24875655bc45a8&quot;,\n",
       "                {\n",
       "                    center: [38.236679420085196, -122.62550925157649],\n",
       "                    crs: L.CRS.EPSG3857,\n",
       "                    zoom: 25,\n",
       "                    zoomControl: true,\n",
       "                    preferCanvas: false,\n",
       "                }\n",
       "            );\n",
       "\n",
       "            \n",
       "\n",
       "        \n",
       "    \n",
       "            var tile_layer_90378501095cf93b5b8a60abb2d40644 = L.tileLayer(\n",
       "                &quot;https://{s}.tile.openstreetmap.org/{z}/{x}/{y}.png&quot;,\n",
       "                {&quot;attribution&quot;: &quot;Data by \\u0026copy; \\u003ca target=\\&quot;_blank\\&quot; href=\\&quot;http://openstreetmap.org\\&quot;\\u003eOpenStreetMap\\u003c/a\\u003e, under \\u003ca target=\\&quot;_blank\\&quot; href=\\&quot;http://www.openstreetmap.org/copyright\\&quot;\\u003eODbL\\u003c/a\\u003e.&quot;, &quot;detectRetina&quot;: false, &quot;maxNativeZoom&quot;: 18, &quot;maxZoom&quot;: 18, &quot;minZoom&quot;: 0, &quot;noWrap&quot;: false, &quot;opacity&quot;: 1, &quot;subdomains&quot;: &quot;abc&quot;, &quot;tms&quot;: false}\n",
       "            ).addTo(map_058f3c3faca05a792a24875655bc45a8);\n",
       "        \n",
       "    \n",
       "\n",
       "        function geo_json_806f3a7f7b47821d1fe7b1b7f059230c_onEachFeature(feature, layer) {\n",
       "            layer.on({\n",
       "            });\n",
       "        };\n",
       "        var geo_json_806f3a7f7b47821d1fe7b1b7f059230c = L.geoJson(null, {\n",
       "                onEachFeature: geo_json_806f3a7f7b47821d1fe7b1b7f059230c_onEachFeature,\n",
       "            \n",
       "        });\n",
       "\n",
       "        function geo_json_806f3a7f7b47821d1fe7b1b7f059230c_add (data) {\n",
       "            geo_json_806f3a7f7b47821d1fe7b1b7f059230c\n",
       "                .addData(data)\n",
       "                .addTo(map_058f3c3faca05a792a24875655bc45a8);\n",
       "        }\n",
       "            geo_json_806f3a7f7b47821d1fe7b1b7f059230c_add({&quot;coordinates&quot;: [[[[-122.62562480132864, 38.23669951169023], [-122.6256133696917, 38.2367444259719], [-122.625611945987, 38.236751996035565], [-122.625611945987, 38.2366922288654], [-122.62564024976675, 38.23665989212061], [-122.6256398756284, 38.23666105143211], [-122.62562480132864, 38.23669951169023]]], [[[-122.6255938350753, 38.23676022988287], [-122.62558650262095, 38.23676195148793], [-122.62553988470749, 38.2367765148863], [-122.6255278468081, 38.236780766518784], [-122.625554446138, 38.2367556952704], [-122.62560990321658, 38.236755695284096], [-122.6255938350753, 38.23676022988287]]], [[[-122.62550323132248, 38.236768759543835], [-122.6255031434272, 38.236768864065034], [-122.62548102241101, 38.236757077158], [-122.62546006525619, 38.23674782119458], [-122.62543972622072, 38.236737620907206], [-122.62538850645525, 38.23670906980456], [-122.62537796824333, 38.23670256124433], [-122.62538514756865, 38.23669365155109], [-122.6254815124543, 38.23658610739967], [-122.62548976441538, 38.23657779562591], [-122.62550106070844, 38.23658345813931], [-122.62553360278102, 38.23660159784599], [-122.62553384206552, 38.236601330801406], [-122.62554973602965, 38.2366103472148], [-122.6255896625491, 38.236629306578635], [-122.62559723479302, 38.23663257811], [-122.625575648957, 38.2366460250507], [-122.625550585916, 38.236628047618], [-122.625515449715, 38.2366585205468], [-122.625501975417, 38.236658520535], [-122.625501975417, 38.236678008168], [-122.625510692596, 38.2366806416307], [-122.625515051196, 38.2366879165882], [-122.625515051179, 38.236701101611], [-122.625503651787, 38.2367079891285], [-122.625503651807, 38.2366948623275], [-122.625497281551, 38.2366948623276], [-122.625473812234, 38.2367188826782], [-122.625473812204, 38.2367345932141], [-122.62548789382, 38.2367591187751], [-122.62551521617058, 38.23677502922697], [-122.62550323132248, 38.236768759543835]]]], &quot;type&quot;: &quot;MultiPolygon&quot;});\n",
       "\n",
       "        \n",
       "&lt;/script&gt;\n",
       "&lt;/html&gt;\" style=\"position:absolute;width:100%;height:100%;left:0;top:0;border:none !important;\" allowfullscreen webkitallowfullscreen mozallowfullscreen></iframe></div></div>"
      ],
      "text/plain": [
       "<folium.folium.Map at 0x299dcdffdf0>"
      ]
     },
     "execution_count": 36,
     "metadata": {},
     "output_type": "execute_result"
    }
   ],
   "source": [
    "# OpenStreetMap\n",
    "map = folium.Map(location=[centroid_y, centroid_x], tiles=\"OpenStreetMap\", zoom_start=25)\n",
    "folium.GeoJson(split).add_to(map)\n",
    "map"
   ]
  },
  {
   "cell_type": "code",
   "execution_count": null,
   "metadata": {},
   "outputs": [],
   "source": []
  }
 ],
 "metadata": {
  "kernelspec": {
   "display_name": "Python 3",
   "language": "python",
   "name": "python3"
  },
  "language_info": {
   "codemirror_mode": {
    "name": "ipython",
    "version": 3
   },
   "file_extension": ".py",
   "mimetype": "text/x-python",
   "name": "python",
   "nbconvert_exporter": "python",
   "pygments_lexer": "ipython3",
   "version": "3.10.8"
  }
 },
 "nbformat": 4,
 "nbformat_minor": 2
}
